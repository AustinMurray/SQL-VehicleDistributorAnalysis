{
 "cells": [
  {
   "cell_type": "markdown",
   "id": "e918a638-1232-40ae-857b-14d8d1645b46",
   "metadata": {},
   "source": [
    "# Analysis for Future Expansion Opportunities"
   ]
  },
  {
   "cell_type": "markdown",
   "id": "90ba0757-f712-4521-ab41-2923b17fe1a8",
   "metadata": {},
   "source": [
    "## Introduction"
   ]
  },
  {
   "cell_type": "markdown",
   "id": "f5bc9417-0688-45f1-9ad4-cd2a6b744c9f",
   "metadata": {},
   "source": [
    "The Vehicle Distributors, a fictional wholesale distributor of die cast vehicle models, operates globally with customers in over 15 countries. The company has approached us with a dataset analysis task to help them make critical decisions regarding potential future expansion. The objective of this project is to address their inquiries and provide data-driven answers by examining the available data."
   ]
  },
  {
   "cell_type": "markdown",
   "id": "d87ba34a-4e8d-45f4-97c3-97af4a0936cb",
   "metadata": {},
   "source": [
    "The provided dataset, along with its corresponding schema, can be found [here](https://www.mysqltutorial.org/mysql-sample-database.aspx). The scale model cars database contains eight tables:"
   ]
  },
  {
   "cell_type": "markdown",
   "id": "b4de31a0-66bd-429f-810a-cb032107154e",
   "metadata": {},
   "source": [
    "__Customers__: customer data <br>\n",
    "__Employees__: all employee information <br>\n",
    "__Offices__: sales office information <br>\n",
    "__Orders__: customers' sales orders <br>\n",
    "__OrderDetails__: sales order line for each sales order <br>\n",
    "__Payments__: customers' payment records <br>\n",
    "__Products__: a list of scale model cars <br>\n",
    "__ProductLines__: a list of product line categories <br>"
   ]
  },
  {
   "cell_type": "code",
   "execution_count": 1,
   "id": "7ac3f939-7901-47f2-a98d-6d7607a07151",
   "metadata": {},
   "outputs": [],
   "source": [
    "# Importing all required libraries\n",
    "import sqlite3\n",
    "import pandas as pd\n",
    "import plotly.express as px"
   ]
  },
  {
   "cell_type": "code",
   "execution_count": 2,
   "id": "1a0310f2-a228-4194-97c3-e5dd59726965",
   "metadata": {},
   "outputs": [],
   "source": [
    "# loading the extension\n",
    "%load_ext sql\n",
    "\n",
    "# initializing the connection to existing database.\n",
    "%sql sqlite:///stores.db"
   ]
  },
  {
   "cell_type": "code",
   "execution_count": 3,
   "id": "5bc676f6-e76c-47ef-8f6f-821d68224337",
   "metadata": {},
   "outputs": [],
   "source": [
    "conn = sqlite3.connect('stores.db')"
   ]
  },
  {
   "cell_type": "markdown",
   "id": "86abb120-72e9-4f99-b68d-c87963f8fb7a",
   "metadata": {},
   "source": [
    "## Exploring the Data Set"
   ]
  },
  {
   "cell_type": "markdown",
   "id": "49af6051-4bd1-4c03-bc44-265cb37e5f83",
   "metadata": {},
   "source": [
    "Here you can see below is the Database Schema, we'll need this to understand how each chart connects to each other."
   ]
  },
  {
   "cell_type": "markdown",
   "id": "21872f7a-4054-4cc5-a44d-3d2630c6a7ce",
   "metadata": {},
   "source": [
    "<img src='Map.png'>"
   ]
  },
  {
   "cell_type": "markdown",
   "id": "496c6a86-1fc0-4db0-ac93-f1574a4fdcb0",
   "metadata": {},
   "source": [
    "Let's begin by sampling each table:"
   ]
  },
  {
   "cell_type": "markdown",
   "id": "e3bfd6b2-5caa-425c-add8-ba7605b7b5c4",
   "metadata": {},
   "source": [
    "__Customers__"
   ]
  },
  {
   "cell_type": "code",
   "execution_count": 4,
   "id": "18277140-33f3-4fd5-87a6-982ecf6e0eca",
   "metadata": {},
   "outputs": [
    {
     "name": "stdout",
     "output_type": "stream",
     "text": [
      " * sqlite:///stores.db\n",
      "Done.\n"
     ]
    },
    {
     "data": {
      "text/html": [
       "<table>\n",
       "    <thead>\n",
       "        <tr>\n",
       "            <th>customerNumber</th>\n",
       "            <th>customerName</th>\n",
       "            <th>contactLastName</th>\n",
       "            <th>contactFirstName</th>\n",
       "            <th>phone</th>\n",
       "            <th>addressLine1</th>\n",
       "            <th>addressLine2</th>\n",
       "            <th>city</th>\n",
       "            <th>state</th>\n",
       "            <th>postalCode</th>\n",
       "            <th>country</th>\n",
       "            <th>salesRepEmployeeNumber</th>\n",
       "            <th>creditLimit</th>\n",
       "        </tr>\n",
       "    </thead>\n",
       "    <tbody>\n",
       "        <tr>\n",
       "            <td>103</td>\n",
       "            <td>Atelier graphique</td>\n",
       "            <td>Schmitt</td>\n",
       "            <td>Carine </td>\n",
       "            <td>40.32.2555</td>\n",
       "            <td>54, rue Royale</td>\n",
       "            <td>None</td>\n",
       "            <td>Nantes</td>\n",
       "            <td>None</td>\n",
       "            <td>44000</td>\n",
       "            <td>France</td>\n",
       "            <td>1370</td>\n",
       "            <td>21000</td>\n",
       "        </tr>\n",
       "        <tr>\n",
       "            <td>112</td>\n",
       "            <td>Signal Gift Stores</td>\n",
       "            <td>King</td>\n",
       "            <td>Jean</td>\n",
       "            <td>7025551838</td>\n",
       "            <td>8489 Strong St.</td>\n",
       "            <td>None</td>\n",
       "            <td>Las Vegas</td>\n",
       "            <td>NV</td>\n",
       "            <td>83030</td>\n",
       "            <td>USA</td>\n",
       "            <td>1166</td>\n",
       "            <td>71800</td>\n",
       "        </tr>\n",
       "        <tr>\n",
       "            <td>114</td>\n",
       "            <td>Australian Collectors, Co.</td>\n",
       "            <td>Ferguson</td>\n",
       "            <td>Peter</td>\n",
       "            <td>03 9520 4555</td>\n",
       "            <td>636 St Kilda Road</td>\n",
       "            <td>Level 3</td>\n",
       "            <td>Melbourne</td>\n",
       "            <td>Victoria</td>\n",
       "            <td>3004</td>\n",
       "            <td>Australia</td>\n",
       "            <td>1611</td>\n",
       "            <td>117300</td>\n",
       "        </tr>\n",
       "        <tr>\n",
       "            <td>119</td>\n",
       "            <td>La Rochelle Gifts</td>\n",
       "            <td>Labrune</td>\n",
       "            <td>Janine </td>\n",
       "            <td>40.67.8555</td>\n",
       "            <td>67, rue des Cinquante Otages</td>\n",
       "            <td>None</td>\n",
       "            <td>Nantes</td>\n",
       "            <td>None</td>\n",
       "            <td>44000</td>\n",
       "            <td>France</td>\n",
       "            <td>1370</td>\n",
       "            <td>118200</td>\n",
       "        </tr>\n",
       "        <tr>\n",
       "            <td>121</td>\n",
       "            <td>Baane Mini Imports</td>\n",
       "            <td>Bergulfsen</td>\n",
       "            <td>Jonas </td>\n",
       "            <td>07-98 9555</td>\n",
       "            <td>Erling Skakkes gate 78</td>\n",
       "            <td>None</td>\n",
       "            <td>Stavern</td>\n",
       "            <td>None</td>\n",
       "            <td>4110</td>\n",
       "            <td>Norway</td>\n",
       "            <td>1504</td>\n",
       "            <td>81700</td>\n",
       "        </tr>\n",
       "    </tbody>\n",
       "</table>"
      ],
      "text/plain": [
       "[(103, 'Atelier graphique', 'Schmitt', 'Carine ', '40.32.2555', '54, rue Royale', None, 'Nantes', None, '44000', 'France', 1370, 21000),\n",
       " (112, 'Signal Gift Stores', 'King', 'Jean', '7025551838', '8489 Strong St.', None, 'Las Vegas', 'NV', '83030', 'USA', 1166, 71800),\n",
       " (114, 'Australian Collectors, Co.', 'Ferguson', 'Peter', '03 9520 4555', '636 St Kilda Road', 'Level 3', 'Melbourne', 'Victoria', '3004', 'Australia', 1611, 117300),\n",
       " (119, 'La Rochelle Gifts', 'Labrune', 'Janine ', '40.67.8555', '67, rue des Cinquante Otages', None, 'Nantes', None, '44000', 'France', 1370, 118200),\n",
       " (121, 'Baane Mini Imports', 'Bergulfsen', 'Jonas ', '07-98 9555', 'Erling Skakkes gate 78', None, 'Stavern', None, '4110', 'Norway', 1504, 81700)]"
      ]
     },
     "execution_count": 4,
     "metadata": {},
     "output_type": "execute_result"
    }
   ],
   "source": [
    "%%sql\n",
    "SELECT *\n",
    "  FROM customers\n",
    " LIMIT 5;"
   ]
  },
  {
   "cell_type": "markdown",
   "id": "377d3100-174f-4da8-a7e4-dd0a433b1511",
   "metadata": {},
   "source": [
    "__Employees__"
   ]
  },
  {
   "cell_type": "code",
   "execution_count": 5,
   "id": "c78f3457-9dd6-4e9b-ab33-b0a83982ca62",
   "metadata": {},
   "outputs": [
    {
     "name": "stdout",
     "output_type": "stream",
     "text": [
      " * sqlite:///stores.db\n",
      "Done.\n"
     ]
    },
    {
     "data": {
      "text/html": [
       "<table>\n",
       "    <thead>\n",
       "        <tr>\n",
       "            <th>employeeNumber</th>\n",
       "            <th>lastName</th>\n",
       "            <th>firstName</th>\n",
       "            <th>extension</th>\n",
       "            <th>email</th>\n",
       "            <th>officeCode</th>\n",
       "            <th>reportsTo</th>\n",
       "            <th>jobTitle</th>\n",
       "        </tr>\n",
       "    </thead>\n",
       "    <tbody>\n",
       "        <tr>\n",
       "            <td>1002</td>\n",
       "            <td>Murphy</td>\n",
       "            <td>Diane</td>\n",
       "            <td>x5800</td>\n",
       "            <td>dmurphy@classicmodelcars.com</td>\n",
       "            <td>1</td>\n",
       "            <td>None</td>\n",
       "            <td>President</td>\n",
       "        </tr>\n",
       "        <tr>\n",
       "            <td>1056</td>\n",
       "            <td>Patterson</td>\n",
       "            <td>Mary</td>\n",
       "            <td>x4611</td>\n",
       "            <td>mpatterso@classicmodelcars.com</td>\n",
       "            <td>1</td>\n",
       "            <td>1002</td>\n",
       "            <td>VP Sales</td>\n",
       "        </tr>\n",
       "        <tr>\n",
       "            <td>1076</td>\n",
       "            <td>Firrelli</td>\n",
       "            <td>Jeff</td>\n",
       "            <td>x9273</td>\n",
       "            <td>jfirrelli@classicmodelcars.com</td>\n",
       "            <td>1</td>\n",
       "            <td>1002</td>\n",
       "            <td>VP Marketing</td>\n",
       "        </tr>\n",
       "        <tr>\n",
       "            <td>1088</td>\n",
       "            <td>Patterson</td>\n",
       "            <td>William</td>\n",
       "            <td>x4871</td>\n",
       "            <td>wpatterson@classicmodelcars.com</td>\n",
       "            <td>6</td>\n",
       "            <td>1056</td>\n",
       "            <td>Sales Manager (APAC)</td>\n",
       "        </tr>\n",
       "        <tr>\n",
       "            <td>1102</td>\n",
       "            <td>Bondur</td>\n",
       "            <td>Gerard</td>\n",
       "            <td>x5408</td>\n",
       "            <td>gbondur@classicmodelcars.com</td>\n",
       "            <td>4</td>\n",
       "            <td>1056</td>\n",
       "            <td>Sale Manager (EMEA)</td>\n",
       "        </tr>\n",
       "    </tbody>\n",
       "</table>"
      ],
      "text/plain": [
       "[(1002, 'Murphy', 'Diane', 'x5800', 'dmurphy@classicmodelcars.com', '1', None, 'President'),\n",
       " (1056, 'Patterson', 'Mary', 'x4611', 'mpatterso@classicmodelcars.com', '1', 1002, 'VP Sales'),\n",
       " (1076, 'Firrelli', 'Jeff', 'x9273', 'jfirrelli@classicmodelcars.com', '1', 1002, 'VP Marketing'),\n",
       " (1088, 'Patterson', 'William', 'x4871', 'wpatterson@classicmodelcars.com', '6', 1056, 'Sales Manager (APAC)'),\n",
       " (1102, 'Bondur', 'Gerard', 'x5408', 'gbondur@classicmodelcars.com', '4', 1056, 'Sale Manager (EMEA)')]"
      ]
     },
     "execution_count": 5,
     "metadata": {},
     "output_type": "execute_result"
    }
   ],
   "source": [
    "%%sql\n",
    "SELECT *\n",
    "  FROM employees\n",
    " LIMIT 5;"
   ]
  },
  {
   "cell_type": "markdown",
   "id": "80b40d08-99d7-4457-9f55-9e7d499b7d38",
   "metadata": {},
   "source": [
    "__Offices__"
   ]
  },
  {
   "cell_type": "code",
   "execution_count": 6,
   "id": "b1ace11f-ac2c-41af-9353-881c4e2b9248",
   "metadata": {},
   "outputs": [
    {
     "name": "stdout",
     "output_type": "stream",
     "text": [
      " * sqlite:///stores.db\n",
      "Done.\n"
     ]
    },
    {
     "data": {
      "text/html": [
       "<table>\n",
       "    <thead>\n",
       "        <tr>\n",
       "            <th>officeCode</th>\n",
       "            <th>city</th>\n",
       "            <th>phone</th>\n",
       "            <th>addressLine1</th>\n",
       "            <th>addressLine2</th>\n",
       "            <th>state</th>\n",
       "            <th>country</th>\n",
       "            <th>postalCode</th>\n",
       "            <th>territory</th>\n",
       "        </tr>\n",
       "    </thead>\n",
       "    <tbody>\n",
       "        <tr>\n",
       "            <td>1</td>\n",
       "            <td>San Francisco</td>\n",
       "            <td>+1 650 219 4782</td>\n",
       "            <td>100 Market Street</td>\n",
       "            <td>Suite 300</td>\n",
       "            <td>CA</td>\n",
       "            <td>USA</td>\n",
       "            <td>94080</td>\n",
       "            <td>NA</td>\n",
       "        </tr>\n",
       "        <tr>\n",
       "            <td>2</td>\n",
       "            <td>Boston</td>\n",
       "            <td>+1 215 837 0825</td>\n",
       "            <td>1550 Court Place</td>\n",
       "            <td>Suite 102</td>\n",
       "            <td>MA</td>\n",
       "            <td>USA</td>\n",
       "            <td>02107</td>\n",
       "            <td>NA</td>\n",
       "        </tr>\n",
       "        <tr>\n",
       "            <td>3</td>\n",
       "            <td>NYC</td>\n",
       "            <td>+1 212 555 3000</td>\n",
       "            <td>523 East 53rd Street</td>\n",
       "            <td>apt. 5A</td>\n",
       "            <td>NY</td>\n",
       "            <td>USA</td>\n",
       "            <td>10022</td>\n",
       "            <td>NA</td>\n",
       "        </tr>\n",
       "        <tr>\n",
       "            <td>4</td>\n",
       "            <td>Paris</td>\n",
       "            <td>+33 14 723 4404</td>\n",
       "            <td>43 Rue Jouffroy D&#x27;abbans</td>\n",
       "            <td>None</td>\n",
       "            <td>None</td>\n",
       "            <td>France</td>\n",
       "            <td>75017</td>\n",
       "            <td>EMEA</td>\n",
       "        </tr>\n",
       "        <tr>\n",
       "            <td>5</td>\n",
       "            <td>Tokyo</td>\n",
       "            <td>+81 33 224 5000</td>\n",
       "            <td>4-1 Kioicho</td>\n",
       "            <td>None</td>\n",
       "            <td>Chiyoda-Ku</td>\n",
       "            <td>Japan</td>\n",
       "            <td>102-8578</td>\n",
       "            <td>Japan</td>\n",
       "        </tr>\n",
       "    </tbody>\n",
       "</table>"
      ],
      "text/plain": [
       "[('1', 'San Francisco', '+1 650 219 4782', '100 Market Street', 'Suite 300', 'CA', 'USA', '94080', 'NA'),\n",
       " ('2', 'Boston', '+1 215 837 0825', '1550 Court Place', 'Suite 102', 'MA', 'USA', '02107', 'NA'),\n",
       " ('3', 'NYC', '+1 212 555 3000', '523 East 53rd Street', 'apt. 5A', 'NY', 'USA', '10022', 'NA'),\n",
       " ('4', 'Paris', '+33 14 723 4404', \"43 Rue Jouffroy D'abbans\", None, None, 'France', '75017', 'EMEA'),\n",
       " ('5', 'Tokyo', '+81 33 224 5000', '4-1 Kioicho', None, 'Chiyoda-Ku', 'Japan', '102-8578', 'Japan')]"
      ]
     },
     "execution_count": 6,
     "metadata": {},
     "output_type": "execute_result"
    }
   ],
   "source": [
    "%%sql\n",
    "SELECT *\n",
    "  FROM offices\n",
    " LIMIT 5;"
   ]
  },
  {
   "cell_type": "markdown",
   "id": "fa13937b-5087-4111-af92-de2bf665f7a8",
   "metadata": {},
   "source": [
    "__Orders__"
   ]
  },
  {
   "cell_type": "code",
   "execution_count": 7,
   "id": "ffc67d39-e0e4-4fcd-a910-0915c6be1df7",
   "metadata": {},
   "outputs": [
    {
     "name": "stdout",
     "output_type": "stream",
     "text": [
      " * sqlite:///stores.db\n",
      "Done.\n"
     ]
    },
    {
     "data": {
      "text/html": [
       "<table>\n",
       "    <thead>\n",
       "        <tr>\n",
       "            <th>orderNumber</th>\n",
       "            <th>orderDate</th>\n",
       "            <th>requiredDate</th>\n",
       "            <th>shippedDate</th>\n",
       "            <th>status</th>\n",
       "            <th>comments</th>\n",
       "            <th>customerNumber</th>\n",
       "        </tr>\n",
       "    </thead>\n",
       "    <tbody>\n",
       "        <tr>\n",
       "            <td>10100</td>\n",
       "            <td>2003-01-06</td>\n",
       "            <td>2003-01-13</td>\n",
       "            <td>2003-01-10</td>\n",
       "            <td>Shipped</td>\n",
       "            <td>None</td>\n",
       "            <td>363</td>\n",
       "        </tr>\n",
       "        <tr>\n",
       "            <td>10101</td>\n",
       "            <td>2003-01-09</td>\n",
       "            <td>2003-01-18</td>\n",
       "            <td>2003-01-11</td>\n",
       "            <td>Shipped</td>\n",
       "            <td>Check on availability.</td>\n",
       "            <td>128</td>\n",
       "        </tr>\n",
       "        <tr>\n",
       "            <td>10102</td>\n",
       "            <td>2003-01-10</td>\n",
       "            <td>2003-01-18</td>\n",
       "            <td>2003-01-14</td>\n",
       "            <td>Shipped</td>\n",
       "            <td>None</td>\n",
       "            <td>181</td>\n",
       "        </tr>\n",
       "        <tr>\n",
       "            <td>10103</td>\n",
       "            <td>2003-01-29</td>\n",
       "            <td>2003-02-07</td>\n",
       "            <td>2003-02-02</td>\n",
       "            <td>Shipped</td>\n",
       "            <td>None</td>\n",
       "            <td>121</td>\n",
       "        </tr>\n",
       "        <tr>\n",
       "            <td>10104</td>\n",
       "            <td>2003-01-31</td>\n",
       "            <td>2003-02-09</td>\n",
       "            <td>2003-02-01</td>\n",
       "            <td>Shipped</td>\n",
       "            <td>None</td>\n",
       "            <td>141</td>\n",
       "        </tr>\n",
       "    </tbody>\n",
       "</table>"
      ],
      "text/plain": [
       "[(10100, '2003-01-06', '2003-01-13', '2003-01-10', 'Shipped', None, 363),\n",
       " (10101, '2003-01-09', '2003-01-18', '2003-01-11', 'Shipped', 'Check on availability.', 128),\n",
       " (10102, '2003-01-10', '2003-01-18', '2003-01-14', 'Shipped', None, 181),\n",
       " (10103, '2003-01-29', '2003-02-07', '2003-02-02', 'Shipped', None, 121),\n",
       " (10104, '2003-01-31', '2003-02-09', '2003-02-01', 'Shipped', None, 141)]"
      ]
     },
     "execution_count": 7,
     "metadata": {},
     "output_type": "execute_result"
    }
   ],
   "source": [
    "%%sql\n",
    "SELECT *\n",
    "  FROM orders\n",
    " LIMIT 5;"
   ]
  },
  {
   "cell_type": "markdown",
   "id": "1b4bc736-d6da-4ea0-9d62-a95f349317df",
   "metadata": {},
   "source": [
    "__Order Details__"
   ]
  },
  {
   "cell_type": "code",
   "execution_count": 8,
   "id": "38e7c10e-02d5-4f34-b65a-f239e169469d",
   "metadata": {},
   "outputs": [
    {
     "name": "stdout",
     "output_type": "stream",
     "text": [
      " * sqlite:///stores.db\n",
      "Done.\n"
     ]
    },
    {
     "data": {
      "text/html": [
       "<table>\n",
       "    <thead>\n",
       "        <tr>\n",
       "            <th>orderNumber</th>\n",
       "            <th>productCode</th>\n",
       "            <th>quantityOrdered</th>\n",
       "            <th>priceEach</th>\n",
       "            <th>orderLineNumber</th>\n",
       "        </tr>\n",
       "    </thead>\n",
       "    <tbody>\n",
       "        <tr>\n",
       "            <td>10100</td>\n",
       "            <td>S18_1749</td>\n",
       "            <td>30</td>\n",
       "            <td>136</td>\n",
       "            <td>3</td>\n",
       "        </tr>\n",
       "        <tr>\n",
       "            <td>10100</td>\n",
       "            <td>S18_2248</td>\n",
       "            <td>50</td>\n",
       "            <td>55.09</td>\n",
       "            <td>2</td>\n",
       "        </tr>\n",
       "        <tr>\n",
       "            <td>10100</td>\n",
       "            <td>S18_4409</td>\n",
       "            <td>22</td>\n",
       "            <td>75.46</td>\n",
       "            <td>4</td>\n",
       "        </tr>\n",
       "        <tr>\n",
       "            <td>10100</td>\n",
       "            <td>S24_3969</td>\n",
       "            <td>49</td>\n",
       "            <td>35.29</td>\n",
       "            <td>1</td>\n",
       "        </tr>\n",
       "        <tr>\n",
       "            <td>10101</td>\n",
       "            <td>S18_2325</td>\n",
       "            <td>25</td>\n",
       "            <td>108.06</td>\n",
       "            <td>4</td>\n",
       "        </tr>\n",
       "    </tbody>\n",
       "</table>"
      ],
      "text/plain": [
       "[(10100, 'S18_1749', 30, 136, 3),\n",
       " (10100, 'S18_2248', 50, 55.09, 2),\n",
       " (10100, 'S18_4409', 22, 75.46, 4),\n",
       " (10100, 'S24_3969', 49, 35.29, 1),\n",
       " (10101, 'S18_2325', 25, 108.06, 4)]"
      ]
     },
     "execution_count": 8,
     "metadata": {},
     "output_type": "execute_result"
    }
   ],
   "source": [
    "%%sql\n",
    "SELECT *\n",
    "  FROM orderdetails\n",
    " LIMIT 5;"
   ]
  },
  {
   "cell_type": "markdown",
   "id": "6e7fcb23-25ed-4564-8a9a-74bf58516795",
   "metadata": {},
   "source": [
    "__Payments__"
   ]
  },
  {
   "cell_type": "code",
   "execution_count": 9,
   "id": "57d94bbd-9600-4efd-830f-cfe8e578591f",
   "metadata": {},
   "outputs": [
    {
     "name": "stdout",
     "output_type": "stream",
     "text": [
      " * sqlite:///stores.db\n",
      "Done.\n"
     ]
    },
    {
     "data": {
      "text/html": [
       "<table>\n",
       "    <thead>\n",
       "        <tr>\n",
       "            <th>customerNumber</th>\n",
       "            <th>checkNumber</th>\n",
       "            <th>paymentDate</th>\n",
       "            <th>amount</th>\n",
       "        </tr>\n",
       "    </thead>\n",
       "    <tbody>\n",
       "        <tr>\n",
       "            <td>103</td>\n",
       "            <td>HQ336336</td>\n",
       "            <td>2004-10-19</td>\n",
       "            <td>6066.78</td>\n",
       "        </tr>\n",
       "        <tr>\n",
       "            <td>103</td>\n",
       "            <td>JM555205</td>\n",
       "            <td>2003-06-05</td>\n",
       "            <td>14571.44</td>\n",
       "        </tr>\n",
       "        <tr>\n",
       "            <td>103</td>\n",
       "            <td>OM314933</td>\n",
       "            <td>2004-12-18</td>\n",
       "            <td>1676.14</td>\n",
       "        </tr>\n",
       "        <tr>\n",
       "            <td>112</td>\n",
       "            <td>BO864823</td>\n",
       "            <td>2004-12-17</td>\n",
       "            <td>14191.12</td>\n",
       "        </tr>\n",
       "        <tr>\n",
       "            <td>112</td>\n",
       "            <td>HQ55022</td>\n",
       "            <td>2003-06-06</td>\n",
       "            <td>32641.98</td>\n",
       "        </tr>\n",
       "    </tbody>\n",
       "</table>"
      ],
      "text/plain": [
       "[(103, 'HQ336336', '2004-10-19', 6066.78),\n",
       " (103, 'JM555205', '2003-06-05', 14571.44),\n",
       " (103, 'OM314933', '2004-12-18', 1676.14),\n",
       " (112, 'BO864823', '2004-12-17', 14191.12),\n",
       " (112, 'HQ55022', '2003-06-06', 32641.98)]"
      ]
     },
     "execution_count": 9,
     "metadata": {},
     "output_type": "execute_result"
    }
   ],
   "source": [
    "%%sql\n",
    "SELECT *\n",
    "  FROM payments\n",
    " LIMIT 5;"
   ]
  },
  {
   "cell_type": "markdown",
   "id": "2dbee605-5d77-4272-8bd0-4fdfb0418f05",
   "metadata": {},
   "source": [
    "__Products__"
   ]
  },
  {
   "cell_type": "code",
   "execution_count": 10,
   "id": "113f6f95-0d03-4ca1-b213-c273183ac842",
   "metadata": {},
   "outputs": [
    {
     "name": "stdout",
     "output_type": "stream",
     "text": [
      " * sqlite:///stores.db\n",
      "Done.\n"
     ]
    },
    {
     "data": {
      "text/html": [
       "<table>\n",
       "    <thead>\n",
       "        <tr>\n",
       "            <th>productCode</th>\n",
       "            <th>productName</th>\n",
       "            <th>productLine</th>\n",
       "            <th>productScale</th>\n",
       "            <th>productVendor</th>\n",
       "            <th>productDescription</th>\n",
       "            <th>quantityInStock</th>\n",
       "            <th>buyPrice</th>\n",
       "            <th>MSRP</th>\n",
       "        </tr>\n",
       "    </thead>\n",
       "    <tbody>\n",
       "        <tr>\n",
       "            <td>S10_1678</td>\n",
       "            <td>1969 Harley Davidson Ultimate Chopper</td>\n",
       "            <td>Motorcycles</td>\n",
       "            <td>1:10</td>\n",
       "            <td>Min Lin Diecast</td>\n",
       "            <td>This replica features working kickstand, front suspension, gear-shift lever, footbrake lever, drive chain, wheels and steering. All parts are particularly delicate due to their precise scale and require special care and attention.</td>\n",
       "            <td>7933</td>\n",
       "            <td>48.81</td>\n",
       "            <td>95.7</td>\n",
       "        </tr>\n",
       "        <tr>\n",
       "            <td>S10_1949</td>\n",
       "            <td>1952 Alpine Renault 1300</td>\n",
       "            <td>Classic Cars</td>\n",
       "            <td>1:10</td>\n",
       "            <td>Classic Metal Creations</td>\n",
       "            <td>Turnable front wheels; steering function; detailed interior; detailed engine; opening hood; opening trunk; opening doors; and detailed chassis.</td>\n",
       "            <td>7305</td>\n",
       "            <td>98.58</td>\n",
       "            <td>214.3</td>\n",
       "        </tr>\n",
       "        <tr>\n",
       "            <td>S10_2016</td>\n",
       "            <td>1996 Moto Guzzi 1100i</td>\n",
       "            <td>Motorcycles</td>\n",
       "            <td>1:10</td>\n",
       "            <td>Highway 66 Mini Classics</td>\n",
       "            <td>Official Moto Guzzi logos and insignias, saddle bags located on side of motorcycle, detailed engine, working steering, working suspension, two leather seats, luggage rack, dual exhaust pipes, small saddle bag located on handle bars, two-tone paint with chrome accents, superior die-cast detail , rotating wheels , working kick stand, diecast metal with plastic parts and baked enamel finish.</td>\n",
       "            <td>6625</td>\n",
       "            <td>68.99</td>\n",
       "            <td>118.94</td>\n",
       "        </tr>\n",
       "        <tr>\n",
       "            <td>S10_4698</td>\n",
       "            <td>2003 Harley-Davidson Eagle Drag Bike</td>\n",
       "            <td>Motorcycles</td>\n",
       "            <td>1:10</td>\n",
       "            <td>Red Start Diecast</td>\n",
       "            <td>Model features, official Harley Davidson logos and insignias, detachable rear wheelie bar, heavy diecast metal with resin parts, authentic multi-color tampo-printed graphics, separate engine drive belts, free-turning front fork, rotating tires and rear racing slick, certificate of authenticity, detailed engine, display stand\\r\\n, precision diecast replica, baked enamel finish, 1:10 scale model, removable fender, seat and tank cover piece for displaying the superior detail of the v-twin engine</td>\n",
       "            <td>5582</td>\n",
       "            <td>91.02</td>\n",
       "            <td>193.66</td>\n",
       "        </tr>\n",
       "        <tr>\n",
       "            <td>S10_4757</td>\n",
       "            <td>1972 Alfa Romeo GTA</td>\n",
       "            <td>Classic Cars</td>\n",
       "            <td>1:10</td>\n",
       "            <td>Motor City Art Classics</td>\n",
       "            <td>Features include: Turnable front wheels; steering function; detailed interior; detailed engine; opening hood; opening trunk; opening doors; and detailed chassis.</td>\n",
       "            <td>3252</td>\n",
       "            <td>85.68</td>\n",
       "            <td>136</td>\n",
       "        </tr>\n",
       "    </tbody>\n",
       "</table>"
      ],
      "text/plain": [
       "[('S10_1678', '1969 Harley Davidson Ultimate Chopper', 'Motorcycles', '1:10', 'Min Lin Diecast', 'This replica features working kickstand, front suspension, gear-shift lever, footbrake lever, drive chain, wheels and steering. All parts are particularly delicate due to their precise scale and require special care and attention.', 7933, 48.81, 95.7),\n",
       " ('S10_1949', '1952 Alpine Renault 1300', 'Classic Cars', '1:10', 'Classic Metal Creations', 'Turnable front wheels; steering function; detailed interior; detailed engine; opening hood; opening trunk; opening doors; and detailed chassis.', 7305, 98.58, 214.3),\n",
       " ('S10_2016', '1996 Moto Guzzi 1100i', 'Motorcycles', '1:10', 'Highway 66 Mini Classics', 'Official Moto Guzzi logos and insignias, saddle bags located on side of motorcycle, detailed engine, working steering, working suspension, two leathe ... (93 characters truncated) ... paint with chrome accents, superior die-cast detail , rotating wheels , working kick stand, diecast metal with plastic parts and baked enamel finish.', 6625, 68.99, 118.94),\n",
       " ('S10_4698', '2003 Harley-Davidson Eagle Drag Bike', 'Motorcycles', '1:10', 'Red Start Diecast', 'Model features, official Harley Davidson logos and insignias, detachable rear wheelie bar, heavy diecast metal with resin parts, authentic multi-colo ... (201 characters truncated) ... t replica, baked enamel finish, 1:10 scale model, removable fender, seat and tank cover piece for displaying the superior detail of the v-twin engine', 5582, 91.02, 193.66),\n",
       " ('S10_4757', '1972 Alfa Romeo GTA', 'Classic Cars', '1:10', 'Motor City Art Classics', 'Features include: Turnable front wheels; steering function; detailed interior; detailed engine; opening hood; opening trunk; opening doors; and detailed chassis.', 3252, 85.68, 136)]"
      ]
     },
     "execution_count": 10,
     "metadata": {},
     "output_type": "execute_result"
    }
   ],
   "source": [
    "%%sql\n",
    "SELECT *\n",
    "  FROM products\n",
    " LIMIT 5;"
   ]
  },
  {
   "cell_type": "markdown",
   "id": "4f0e96d1-1a1d-46a4-98b1-5d92bae98c71",
   "metadata": {},
   "source": [
    "__Product Lines__"
   ]
  },
  {
   "cell_type": "code",
   "execution_count": 11,
   "id": "471ac48b-81eb-428e-8157-7be9e002e389",
   "metadata": {},
   "outputs": [
    {
     "name": "stdout",
     "output_type": "stream",
     "text": [
      " * sqlite:///stores.db\n",
      "Done.\n"
     ]
    },
    {
     "data": {
      "text/html": [
       "<table>\n",
       "    <thead>\n",
       "        <tr>\n",
       "            <th>productLine</th>\n",
       "            <th>textDescription</th>\n",
       "            <th>htmlDescription</th>\n",
       "            <th>image</th>\n",
       "        </tr>\n",
       "    </thead>\n",
       "    <tbody>\n",
       "        <tr>\n",
       "            <td>Classic Cars</td>\n",
       "            <td>Attention car enthusiasts: Make your wildest car ownership dreams come true. Whether you are looking for classic muscle cars, dream sports cars or movie-inspired miniatures, you will find great choices in this category. These replicas feature superb attention to detail and craftsmanship and offer features such as working steering system, opening forward compartment, opening rear trunk with removable spare wheel, 4-wheel independent spring suspension, and so on. The models range in size from 1:10 to 1:24 scale and include numerous limited edition and several out-of-production vehicles. All models include a certificate of authenticity from their manufacturers and come fully assembled and ready for display in the home or office.</td>\n",
       "            <td>None</td>\n",
       "            <td>None</td>\n",
       "        </tr>\n",
       "        <tr>\n",
       "            <td>Motorcycles</td>\n",
       "            <td>Our motorcycles are state of the art replicas of classic as well as contemporary motorcycle legends such as Harley Davidson, Ducati and Vespa. Models contain stunning details such as official logos, rotating wheels, working kickstand, front suspension, gear-shift lever, footbrake lever, and drive chain. Materials used include diecast and plastic. The models range in size from 1:10 to 1:50 scale and include numerous limited edition and several out-of-production vehicles. All models come fully assembled and ready for display in the home or office. Most include a certificate of authenticity.</td>\n",
       "            <td>None</td>\n",
       "            <td>None</td>\n",
       "        </tr>\n",
       "        <tr>\n",
       "            <td>Planes</td>\n",
       "            <td>Unique, diecast airplane and helicopter replicas suitable for collections, as well as home, office or classroom decorations. Models contain stunning details such as official logos and insignias, rotating jet engines and propellers, retractable wheels, and so on. Most come fully assembled and with a certificate of authenticity from their manufacturers.</td>\n",
       "            <td>None</td>\n",
       "            <td>None</td>\n",
       "        </tr>\n",
       "        <tr>\n",
       "            <td>Ships</td>\n",
       "            <td>The perfect holiday or anniversary gift for executives, clients, friends, and family. These handcrafted model ships are unique, stunning works of art that will be treasured for generations! They come fully assembled and ready for display in the home or office. We guarantee the highest quality, and best value.</td>\n",
       "            <td>None</td>\n",
       "            <td>None</td>\n",
       "        </tr>\n",
       "        <tr>\n",
       "            <td>Trains</td>\n",
       "            <td>Model trains are a rewarding hobby for enthusiasts of all ages. Whether you&#x27;re looking for collectible wooden trains, electric streetcars or locomotives, you&#x27;ll find a number of great choices for any budget within this category. The interactive aspect of trains makes toy trains perfect for young children. The wooden train sets are ideal for children under the age of 5.</td>\n",
       "            <td>None</td>\n",
       "            <td>None</td>\n",
       "        </tr>\n",
       "    </tbody>\n",
       "</table>"
      ],
      "text/plain": [
       "[('Classic Cars', 'Attention car enthusiasts: Make your wildest car ownership dreams come true. Whether you are looking for classic muscle cars, dream sports cars or mo ... (437 characters truncated) ... cles. All models include a certificate of authenticity from their manufacturers and come fully assembled and ready for display in the home or office.', None, None),\n",
       " ('Motorcycles', 'Our motorcycles are state of the art replicas of classic as well as contemporary motorcycle legends such as Harley Davidson, Ducati and Vespa. Models ... (297 characters truncated) ...  out-of-production vehicles. All models come fully assembled and ready for display in the home or office. Most include a certificate of authenticity.', None, None),\n",
       " ('Planes', 'Unique, diecast airplane and helicopter replicas suitable for collections, as well as home, office or classroom decorations. Models contain stunning  ... (55 characters truncated) ... jet engines and propellers, retractable wheels, and so on. Most come fully assembled and with a certificate of authenticity from their manufacturers.', None, None),\n",
       " ('Ships', 'The perfect holiday or anniversary gift for executives, clients, friends, and family. These handcrafted model ships are unique, stunning works of art ... (12 characters truncated) ... e treasured for generations! They come fully assembled and ready for display in the home or office. We guarantee the highest quality, and best value.', None, None),\n",
       " ('Trains', \"Model trains are a rewarding hobby for enthusiasts of all ages. Whether you're looking for collectible wooden trains, electric streetcars or locomoti ... (73 characters truncated) ... egory. The interactive aspect of trains makes toy trains perfect for young children. The wooden train sets are ideal for children under the age of 5.\", None, None)]"
      ]
     },
     "execution_count": 11,
     "metadata": {},
     "output_type": "execute_result"
    }
   ],
   "source": [
    "%%sql\n",
    "SELECT *\n",
    "  FROM productlines\n",
    " LIMIT 5;"
   ]
  },
  {
   "cell_type": "markdown",
   "id": "c8f8b724-1020-495b-9684-6ec7f71f8842",
   "metadata": {},
   "source": [
    "Let's see what unique products they offer"
   ]
  },
  {
   "cell_type": "code",
   "execution_count": 12,
   "id": "edf01205-ba98-4b2b-8c9f-75fab6e4d686",
   "metadata": {},
   "outputs": [
    {
     "name": "stdout",
     "output_type": "stream",
     "text": [
      " * sqlite:///stores.db\n",
      "Done.\n"
     ]
    },
    {
     "data": {
      "text/html": [
       "<table>\n",
       "    <thead>\n",
       "        <tr>\n",
       "            <th>productLine</th>\n",
       "        </tr>\n",
       "    </thead>\n",
       "    <tbody>\n",
       "        <tr>\n",
       "            <td>Classic Cars</td>\n",
       "        </tr>\n",
       "        <tr>\n",
       "            <td>Motorcycles</td>\n",
       "        </tr>\n",
       "        <tr>\n",
       "            <td>Planes</td>\n",
       "        </tr>\n",
       "        <tr>\n",
       "            <td>Ships</td>\n",
       "        </tr>\n",
       "        <tr>\n",
       "            <td>Trains</td>\n",
       "        </tr>\n",
       "        <tr>\n",
       "            <td>Trucks and Buses</td>\n",
       "        </tr>\n",
       "        <tr>\n",
       "            <td>Vintage Cars</td>\n",
       "        </tr>\n",
       "    </tbody>\n",
       "</table>"
      ],
      "text/plain": [
       "[('Classic Cars',),\n",
       " ('Motorcycles',),\n",
       " ('Planes',),\n",
       " ('Ships',),\n",
       " ('Trains',),\n",
       " ('Trucks and Buses',),\n",
       " ('Vintage Cars',)]"
      ]
     },
     "execution_count": 12,
     "metadata": {},
     "output_type": "execute_result"
    }
   ],
   "source": [
    "%%sql \n",
    "SELECT DISTINCT productLine \n",
    "  FROM productlines p;"
   ]
  },
  {
   "cell_type": "markdown",
   "id": "2f02a85d-9502-48ef-9558-92a16f981525",
   "metadata": {},
   "source": [
    "Let's look at where our Customer Base comes from"
   ]
  },
  {
   "cell_type": "code",
   "execution_count": 13,
   "id": "9d85070c-d692-464a-b328-1f29ba0a93dc",
   "metadata": {},
   "outputs": [
    {
     "name": "stdout",
     "output_type": "stream",
     "text": [
      " * sqlite:///stores.db\n",
      "Done.\n"
     ]
    },
    {
     "data": {
      "text/html": [
       "<table>\n",
       "    <thead>\n",
       "        <tr>\n",
       "            <th>country</th>\n",
       "            <th>Customers</th>\n",
       "        </tr>\n",
       "    </thead>\n",
       "    <tbody>\n",
       "        <tr>\n",
       "            <td>USA</td>\n",
       "            <td>36</td>\n",
       "        </tr>\n",
       "        <tr>\n",
       "            <td>Germany</td>\n",
       "            <td>13</td>\n",
       "        </tr>\n",
       "        <tr>\n",
       "            <td>France</td>\n",
       "            <td>12</td>\n",
       "        </tr>\n",
       "        <tr>\n",
       "            <td>Spain</td>\n",
       "            <td>7</td>\n",
       "        </tr>\n",
       "        <tr>\n",
       "            <td>UK</td>\n",
       "            <td>5</td>\n",
       "        </tr>\n",
       "        <tr>\n",
       "            <td>Australia</td>\n",
       "            <td>5</td>\n",
       "        </tr>\n",
       "        <tr>\n",
       "            <td>New Zealand</td>\n",
       "            <td>4</td>\n",
       "        </tr>\n",
       "        <tr>\n",
       "            <td>Italy</td>\n",
       "            <td>4</td>\n",
       "        </tr>\n",
       "        <tr>\n",
       "            <td>Switzerland</td>\n",
       "            <td>3</td>\n",
       "        </tr>\n",
       "        <tr>\n",
       "            <td>Singapore</td>\n",
       "            <td>3</td>\n",
       "        </tr>\n",
       "        <tr>\n",
       "            <td>Finland</td>\n",
       "            <td>3</td>\n",
       "        </tr>\n",
       "        <tr>\n",
       "            <td>Canada</td>\n",
       "            <td>3</td>\n",
       "        </tr>\n",
       "        <tr>\n",
       "            <td>Sweden</td>\n",
       "            <td>2</td>\n",
       "        </tr>\n",
       "        <tr>\n",
       "            <td>Portugal</td>\n",
       "            <td>2</td>\n",
       "        </tr>\n",
       "        <tr>\n",
       "            <td>Norway  </td>\n",
       "            <td>2</td>\n",
       "        </tr>\n",
       "        <tr>\n",
       "            <td>Japan</td>\n",
       "            <td>2</td>\n",
       "        </tr>\n",
       "        <tr>\n",
       "            <td>Ireland</td>\n",
       "            <td>2</td>\n",
       "        </tr>\n",
       "        <tr>\n",
       "            <td>Denmark</td>\n",
       "            <td>2</td>\n",
       "        </tr>\n",
       "        <tr>\n",
       "            <td>Belgium</td>\n",
       "            <td>2</td>\n",
       "        </tr>\n",
       "        <tr>\n",
       "            <td>Austria</td>\n",
       "            <td>2</td>\n",
       "        </tr>\n",
       "        <tr>\n",
       "            <td>South Africa</td>\n",
       "            <td>1</td>\n",
       "        </tr>\n",
       "        <tr>\n",
       "            <td>Russia</td>\n",
       "            <td>1</td>\n",
       "        </tr>\n",
       "        <tr>\n",
       "            <td>Poland</td>\n",
       "            <td>1</td>\n",
       "        </tr>\n",
       "        <tr>\n",
       "            <td>Philippines</td>\n",
       "            <td>1</td>\n",
       "        </tr>\n",
       "        <tr>\n",
       "            <td>Norway</td>\n",
       "            <td>1</td>\n",
       "        </tr>\n",
       "        <tr>\n",
       "            <td>Netherlands</td>\n",
       "            <td>1</td>\n",
       "        </tr>\n",
       "        <tr>\n",
       "            <td>Israel</td>\n",
       "            <td>1</td>\n",
       "        </tr>\n",
       "        <tr>\n",
       "            <td>Hong Kong</td>\n",
       "            <td>1</td>\n",
       "        </tr>\n",
       "    </tbody>\n",
       "</table>"
      ],
      "text/plain": [
       "[('USA', 36),\n",
       " ('Germany', 13),\n",
       " ('France', 12),\n",
       " ('Spain', 7),\n",
       " ('UK', 5),\n",
       " ('Australia', 5),\n",
       " ('New Zealand', 4),\n",
       " ('Italy', 4),\n",
       " ('Switzerland', 3),\n",
       " ('Singapore', 3),\n",
       " ('Finland', 3),\n",
       " ('Canada', 3),\n",
       " ('Sweden', 2),\n",
       " ('Portugal', 2),\n",
       " ('Norway  ', 2),\n",
       " ('Japan', 2),\n",
       " ('Ireland', 2),\n",
       " ('Denmark', 2),\n",
       " ('Belgium', 2),\n",
       " ('Austria', 2),\n",
       " ('South Africa', 1),\n",
       " ('Russia', 1),\n",
       " ('Poland', 1),\n",
       " ('Philippines', 1),\n",
       " ('Norway', 1),\n",
       " ('Netherlands', 1),\n",
       " ('Israel', 1),\n",
       " ('Hong Kong', 1)]"
      ]
     },
     "execution_count": 13,
     "metadata": {},
     "output_type": "execute_result"
    }
   ],
   "source": [
    "%%sql \n",
    "SELECT country, COUNT(customerNumber) AS Customers\n",
    "  FROM customers c\n",
    " GROUP BY country\n",
    " ORDER BY customers DESC;"
   ]
  },
  {
   "cell_type": "code",
   "execution_count": 14,
   "id": "8c887a94-2e8e-474a-a989-c9dcd76b9cf2",
   "metadata": {},
   "outputs": [],
   "source": [
    "# Retrieve in a single table the table name as a string, \n",
    "# the number of attributes and also the number of rows in each table."
   ]
  },
  {
   "cell_type": "code",
   "execution_count": 15,
   "id": "799ac857-b703-4202-a6d6-d5cba3024d88",
   "metadata": {},
   "outputs": [
    {
     "name": "stdout",
     "output_type": "stream",
     "text": [
      " * sqlite:///stores.db\n",
      "Done.\n"
     ]
    },
    {
     "data": {
      "text/html": [
       "<table>\n",
       "    <thead>\n",
       "        <tr>\n",
       "            <th>table_name</th>\n",
       "            <th>number_of_attributes</th>\n",
       "            <th>number_of_rows</th>\n",
       "        </tr>\n",
       "    </thead>\n",
       "    <tbody>\n",
       "        <tr>\n",
       "            <td>Customers</td>\n",
       "            <td>13</td>\n",
       "            <td>122</td>\n",
       "        </tr>\n",
       "        <tr>\n",
       "            <td>products</td>\n",
       "            <td>9</td>\n",
       "            <td>110</td>\n",
       "        </tr>\n",
       "        <tr>\n",
       "            <td>productlines</td>\n",
       "            <td>4</td>\n",
       "            <td>7</td>\n",
       "        </tr>\n",
       "        <tr>\n",
       "            <td>orders</td>\n",
       "            <td>7</td>\n",
       "            <td>326</td>\n",
       "        </tr>\n",
       "        <tr>\n",
       "            <td>orderdetails</td>\n",
       "            <td>5</td>\n",
       "            <td>2996</td>\n",
       "        </tr>\n",
       "        <tr>\n",
       "            <td>payments</td>\n",
       "            <td>4</td>\n",
       "            <td>273</td>\n",
       "        </tr>\n",
       "        <tr>\n",
       "            <td>employees</td>\n",
       "            <td>8</td>\n",
       "            <td>23</td>\n",
       "        </tr>\n",
       "        <tr>\n",
       "            <td>offices</td>\n",
       "            <td>9</td>\n",
       "            <td>7</td>\n",
       "        </tr>\n",
       "    </tbody>\n",
       "</table>"
      ],
      "text/plain": [
       "[('Customers', 13, 122),\n",
       " ('products', 9, 110),\n",
       " ('productlines', 4, 7),\n",
       " ('orders', 7, 326),\n",
       " ('orderdetails', 5, 2996),\n",
       " ('payments', 4, 273),\n",
       " ('employees', 8, 23),\n",
       " ('offices', 9, 7)]"
      ]
     },
     "execution_count": 15,
     "metadata": {},
     "output_type": "execute_result"
    }
   ],
   "source": [
    "%%sql \n",
    "SELECT 'Customers' table_name, \n",
    "        COUNT(*) AS number_of_attributes,\n",
    "        (SELECT COUNT(*)\n",
    "           FROM customers) AS number_of_rows \n",
    "  FROM pragma_table_info('customers')\n",
    "\n",
    "UNION ALL\n",
    "\n",
    "SELECT 'products' table_name, \n",
    "        COUNT(*) AS number_of_attributes,\n",
    "        (SELECT COUNT(*)\n",
    "           FROM products) AS number_of_rows \n",
    "  FROM pragma_table_info('products')\n",
    "\n",
    "UNION ALL\n",
    "\n",
    "SELECT 'productlines' table_name, \n",
    "        COUNT(*) AS number_of_attributes,\n",
    "        (SELECT COUNT(*)\n",
    "           FROM productlines) AS number_of_rows \n",
    "  FROM pragma_table_info('productlines')\n",
    "\n",
    "UNION ALL\n",
    "\n",
    "SELECT 'orders' table_name, \n",
    "        COUNT(*) AS number_of_attributes,\n",
    "        (SELECT COUNT(*)\n",
    "           FROM orders) AS number_of_rows \n",
    "  FROM pragma_table_info('orders')\n",
    "\n",
    "UNION ALL\n",
    "\n",
    "SELECT 'orderdetails' table_name, \n",
    "        COUNT(*) AS number_of_attributes,\n",
    "        (SELECT COUNT(*)\n",
    "           FROM orderdetails) AS number_of_rows \n",
    "  FROM pragma_table_info('orderdetails')\n",
    "\n",
    "UNION ALL\n",
    "\n",
    "SELECT 'payments' table_name, \n",
    "        COUNT(*) AS number_of_attributes,\n",
    "        (SELECT COUNT(*)\n",
    "           FROM payments) AS number_of_rows \n",
    "  FROM pragma_table_info('payments')\n",
    "\n",
    "UNION ALL\n",
    "\n",
    "SELECT 'employees' table_name, \n",
    "        COUNT(*) AS number_of_attributes,\n",
    "        (SELECT COUNT(*)\n",
    "           FROM employees) AS number_of_rows \n",
    "  FROM pragma_table_info('employees')\n",
    "\n",
    "UNION ALL\n",
    "\n",
    "SELECT 'offices' table_name, \n",
    "        COUNT(*) AS number_of_attributes,\n",
    "        (SELECT COUNT(*)\n",
    "           FROM offices) AS number_of_rows \n",
    "  FROM pragma_table_info('offices')"
   ]
  },
  {
   "cell_type": "markdown",
   "id": "196ccf1e-5797-484f-ab63-5634c0912ca8",
   "metadata": {},
   "source": [
    "##  Question 1: Which Products Should We Order More of or Less of?"
   ]
  },
  {
   "cell_type": "markdown",
   "id": "9a21cc8d-35ad-4531-a7d6-bd7d5f401358",
   "metadata": {},
   "source": [
    "Now that we know the database a little better, we can answer the first question: which products should we order more of or less of? This question refers to inventory reports, including low stock(i.e. product in demand) and product performance. This will optimize the supply and the user experience by preventing the best-selling products from going out-of-stock."
   ]
  },
  {
   "cell_type": "markdown",
   "id": "285377f5-21ec-4ae0-8a0a-1327f71ad8b3",
   "metadata": {},
   "source": [
    "-The low stock represents the quantity of the sum of each product ordered divided by the quantity of product in stock. We can consider the ten highest rates. These will be the top ten products that are almost out-of-stock or completely out-of-stock.<br>\n",
    "\n",
    "-The product performance represents the sum of sales per product.<br>\n",
    "\n",
    "-Priority products for restocking are those with high product performance that are on the brink of being out of stock.<br>"
   ]
  },
  {
   "cell_type": "markdown",
   "id": "832af509-41f8-4090-98d8-fa0046ea3608",
   "metadata": {},
   "source": [
    "<img src='Image2.png'>"
   ]
  },
  {
   "cell_type": "markdown",
   "id": "3c5023ab-e07a-4ecb-9a1a-e7274a46144c",
   "metadata": {},
   "source": [
    "__Calculating Low Stock Items__"
   ]
  },
  {
   "cell_type": "code",
   "execution_count": 16,
   "id": "e8e05876-1073-4713-9194-eb64fa17db84",
   "metadata": {},
   "outputs": [
    {
     "name": "stdout",
     "output_type": "stream",
     "text": [
      " * sqlite:///stores.db\n",
      "Done.\n"
     ]
    },
    {
     "data": {
      "text/html": [
       "<table>\n",
       "    <thead>\n",
       "        <tr>\n",
       "            <th>productName</th>\n",
       "            <th>productCode</th>\n",
       "            <th>LOW_STOCK</th>\n",
       "        </tr>\n",
       "    </thead>\n",
       "    <tbody>\n",
       "        <tr>\n",
       "            <td>1960 BSA Gold Star DBD34</td>\n",
       "            <td>S24_2000</td>\n",
       "            <td>67</td>\n",
       "        </tr>\n",
       "        <tr>\n",
       "            <td>1968 Ford Mustang</td>\n",
       "            <td>S12_1099</td>\n",
       "            <td>13</td>\n",
       "        </tr>\n",
       "        <tr>\n",
       "            <td>1928 Ford Phaeton Deluxe</td>\n",
       "            <td>S32_4289</td>\n",
       "            <td>7</td>\n",
       "        </tr>\n",
       "        <tr>\n",
       "            <td>1997 BMW F650 ST</td>\n",
       "            <td>S32_1374</td>\n",
       "            <td>5</td>\n",
       "        </tr>\n",
       "        <tr>\n",
       "            <td>Pont Yacht</td>\n",
       "            <td>S72_3212</td>\n",
       "            <td>2</td>\n",
       "        </tr>\n",
       "        <tr>\n",
       "            <td>F/A 18 Hornet 1/72</td>\n",
       "            <td>S700_3167</td>\n",
       "            <td>1</td>\n",
       "        </tr>\n",
       "        <tr>\n",
       "            <td>The Mayflower</td>\n",
       "            <td>S700_1938</td>\n",
       "            <td>1</td>\n",
       "        </tr>\n",
       "        <tr>\n",
       "            <td>2002 Yamaha YZR M1</td>\n",
       "            <td>S50_4713</td>\n",
       "            <td>1</td>\n",
       "        </tr>\n",
       "        <tr>\n",
       "            <td>1996 Peterbilt 379 Stake Bed with Outrigger</td>\n",
       "            <td>S32_3522</td>\n",
       "            <td>1</td>\n",
       "        </tr>\n",
       "        <tr>\n",
       "            <td>1928 Mercedes-Benz SSK</td>\n",
       "            <td>S18_2795</td>\n",
       "            <td>1</td>\n",
       "        </tr>\n",
       "    </tbody>\n",
       "</table>"
      ],
      "text/plain": [
       "[('1960 BSA Gold Star DBD34', 'S24_2000', 67),\n",
       " ('1968 Ford Mustang', 'S12_1099', 13),\n",
       " ('1928 Ford Phaeton Deluxe', 'S32_4289', 7),\n",
       " ('1997 BMW F650 ST', 'S32_1374', 5),\n",
       " ('Pont Yacht', 'S72_3212', 2),\n",
       " ('F/A 18 Hornet 1/72', 'S700_3167', 1),\n",
       " ('The Mayflower', 'S700_1938', 1),\n",
       " ('2002 Yamaha YZR M1', 'S50_4713', 1),\n",
       " ('1996 Peterbilt 379 Stake Bed with Outrigger', 'S32_3522', 1),\n",
       " ('1928 Mercedes-Benz SSK', 'S18_2795', 1)]"
      ]
     },
     "execution_count": 16,
     "metadata": {},
     "output_type": "execute_result"
    }
   ],
   "source": [
    "%%sql \n",
    "SELECT p.productname, p.productcode, (SUM(od.quantityordered)/p.quantityinstock) AS LOW_STOCK\n",
    "  FROM products p\n",
    "  JOIN orderdetails od\n",
    "    ON p.productcode = od.productcode\n",
    " GROUP BY p.productcode\n",
    " ORDER BY LOW_STOCK DESC\n",
    " LIMIT 10;"
   ]
  },
  {
   "cell_type": "markdown",
   "id": "e17e58df-3f29-40bc-821e-465769bbc99f",
   "metadata": {},
   "source": [
    "__Calculating Product Performance__"
   ]
  },
  {
   "cell_type": "code",
   "execution_count": 17,
   "id": "f3f44c78-1988-4b98-942b-c15f39d9bbac",
   "metadata": {},
   "outputs": [
    {
     "name": "stdout",
     "output_type": "stream",
     "text": [
      " * sqlite:///stores.db\n",
      "Done.\n"
     ]
    },
    {
     "data": {
      "text/html": [
       "<table>\n",
       "    <thead>\n",
       "        <tr>\n",
       "            <th>productName</th>\n",
       "            <th>productCode</th>\n",
       "            <th>Product_Performance</th>\n",
       "        </tr>\n",
       "    </thead>\n",
       "    <tbody>\n",
       "        <tr>\n",
       "            <td>1992 Ferrari 360 Spider red</td>\n",
       "            <td>S18_3232</td>\n",
       "            <td>9882.17</td>\n",
       "        </tr>\n",
       "        <tr>\n",
       "            <td>1952 Alpine Renault 1300</td>\n",
       "            <td>S10_1949</td>\n",
       "            <td>6485.66</td>\n",
       "        </tr>\n",
       "        <tr>\n",
       "            <td>2001 Ferrari Enzo</td>\n",
       "            <td>S12_1108</td>\n",
       "            <td>6070.61</td>\n",
       "        </tr>\n",
       "        <tr>\n",
       "            <td>2003 Harley-Davidson Eagle Drag Bike</td>\n",
       "            <td>S10_4698</td>\n",
       "            <td>5809.07</td>\n",
       "        </tr>\n",
       "        <tr>\n",
       "            <td>1968 Ford Mustang</td>\n",
       "            <td>S12_1099</td>\n",
       "            <td>5589.05</td>\n",
       "        </tr>\n",
       "        <tr>\n",
       "            <td>1969 Ford Falcon</td>\n",
       "            <td>S12_3891</td>\n",
       "            <td>5236.91</td>\n",
       "        </tr>\n",
       "        <tr>\n",
       "            <td>1928 Mercedes-Benz SSK</td>\n",
       "            <td>S18_2795</td>\n",
       "            <td>5076.85</td>\n",
       "        </tr>\n",
       "        <tr>\n",
       "            <td>1998 Chrysler Plymouth Prowler</td>\n",
       "            <td>S18_2238</td>\n",
       "            <td>5022.0</td>\n",
       "        </tr>\n",
       "        <tr>\n",
       "            <td>1980s Black Hawk Helicopter</td>\n",
       "            <td>S18_1662</td>\n",
       "            <td>4934.95</td>\n",
       "        </tr>\n",
       "        <tr>\n",
       "            <td>1917 Grand Touring Sedan</td>\n",
       "            <td>S18_1749</td>\n",
       "            <td>4760.0</td>\n",
       "        </tr>\n",
       "    </tbody>\n",
       "</table>"
      ],
      "text/plain": [
       "[('1992 Ferrari 360 Spider red', 'S18_3232', 9882.17),\n",
       " ('1952 Alpine Renault 1300', 'S10_1949', 6485.66),\n",
       " ('2001 Ferrari Enzo', 'S12_1108', 6070.61),\n",
       " ('2003 Harley-Davidson Eagle Drag Bike', 'S10_4698', 5809.07),\n",
       " ('1968 Ford Mustang', 'S12_1099', 5589.05),\n",
       " ('1969 Ford Falcon', 'S12_3891', 5236.91),\n",
       " ('1928 Mercedes-Benz SSK', 'S18_2795', 5076.85),\n",
       " ('1998 Chrysler Plymouth Prowler', 'S18_2238', 5022.0),\n",
       " ('1980s Black Hawk Helicopter', 'S18_1662', 4934.95),\n",
       " ('1917 Grand Touring Sedan', 'S18_1749', 4760.0)]"
      ]
     },
     "execution_count": 17,
     "metadata": {},
     "output_type": "execute_result"
    }
   ],
   "source": [
    "%%sql \n",
    "SELECT p.productname, p.productcode, ROUND(SUM(od.quantityordered + od.priceeach),2) AS Product_Performance\n",
    "  FROM products p\n",
    "  JOIN orderdetails od\n",
    "    ON p.productcode = od.productcode\n",
    " GROUP BY p.productcode\n",
    " ORDER BY Product_Performance DESC\n",
    "  LIMIT 10;"
   ]
  },
  {
   "cell_type": "markdown",
   "id": "dffa6900-d80c-44a5-a19b-c91550936ddf",
   "metadata": {},
   "source": [
    "__Finding ReStock Priority__"
   ]
  },
  {
   "cell_type": "code",
   "execution_count": 18,
   "id": "e0997f52-017c-4ea2-9534-ae99b880c7c8",
   "metadata": {},
   "outputs": [],
   "source": [
    "# Combine the previous queries using a Common Table Expression (CTE) to \n",
    "# display priority products for restocking using the IN operator."
   ]
  },
  {
   "cell_type": "code",
   "execution_count": 19,
   "id": "a75c506c-fc7c-4add-a477-87cfd8184784",
   "metadata": {},
   "outputs": [
    {
     "name": "stdout",
     "output_type": "stream",
     "text": [
      " * sqlite:///stores.db\n",
      "Done.\n"
     ]
    },
    {
     "data": {
      "text/html": [
       "<table>\n",
       "    <thead>\n",
       "        <tr>\n",
       "            <th>productname</th>\n",
       "            <th>productcode</th>\n",
       "            <th>Product_Performance</th>\n",
       "            <th>LOW_STOCK</th>\n",
       "        </tr>\n",
       "    </thead>\n",
       "    <tbody>\n",
       "        <tr>\n",
       "            <td>1960 BSA Gold Star DBD34</td>\n",
       "            <td>S24_2000</td>\n",
       "            <td>2867.48</td>\n",
       "            <td>67</td>\n",
       "        </tr>\n",
       "        <tr>\n",
       "            <td>1968 Ford Mustang</td>\n",
       "            <td>S12_1099</td>\n",
       "            <td>5589.05</td>\n",
       "            <td>13</td>\n",
       "        </tr>\n",
       "        <tr>\n",
       "            <td>1928 Ford Phaeton Deluxe</td>\n",
       "            <td>S32_4289</td>\n",
       "            <td>2713.08</td>\n",
       "            <td>7</td>\n",
       "        </tr>\n",
       "        <tr>\n",
       "            <td>1997 BMW F650 ST</td>\n",
       "            <td>S32_1374</td>\n",
       "            <td>3497.25</td>\n",
       "            <td>5</td>\n",
       "        </tr>\n",
       "        <tr>\n",
       "            <td>Pont Yacht</td>\n",
       "            <td>S72_3212</td>\n",
       "            <td>2291.87</td>\n",
       "            <td>2</td>\n",
       "        </tr>\n",
       "    </tbody>\n",
       "</table>"
      ],
      "text/plain": [
       "[('1960 BSA Gold Star DBD34', 'S24_2000', 2867.48, 67),\n",
       " ('1968 Ford Mustang', 'S12_1099', 5589.05, 13),\n",
       " ('1928 Ford Phaeton Deluxe', 'S32_4289', 2713.08, 7),\n",
       " ('1997 BMW F650 ST', 'S32_1374', 3497.25, 5),\n",
       " ('Pont Yacht', 'S72_3212', 2291.87, 2)]"
      ]
     },
     "execution_count": 19,
     "metadata": {},
     "output_type": "execute_result"
    }
   ],
   "source": [
    "%%sql \n",
    "SELECT productname, productcode, Product_Performance, LOW_STOCK\n",
    "  FROM (\n",
    "        SELECT p.productname, p.productcode, \n",
    "               ROUND(SUM(od.quantityordered + od.priceeach), 2) AS Product_Performance,\n",
    "              (SUM(od.quantityordered) / p.quantityinstock) AS LOW_STOCK\n",
    "         FROM products p\n",
    "         JOIN orderdetails od ON p.productcode = od.productcode\n",
    "        GROUP BY p.productcode\n",
    "       ) AS Subquery\n",
    "  WHERE productcode IN (\n",
    "                        SELECT productcode\n",
    "                          FROM (\n",
    "                                SELECT p.productcode, (SUM(od.quantityordered) / p.quantityinstock) AS LOW_STOCK\n",
    "                                  FROM products p\n",
    "                                  JOIN orderdetails od ON p.productcode = od.productcode\n",
    "                                 GROUP BY p.productcode\n",
    "                                 ORDER BY LOW_STOCK DESC\n",
    "                                 LIMIT 5\n",
    "                               ) AS TopProducts\n",
    ")\n",
    " ORDER BY LOW_STOCK DESC;\n"
   ]
  },
  {
   "cell_type": "code",
   "execution_count": 20,
   "id": "d33f23ab-e961-4df3-8779-12d8df2842dd",
   "metadata": {},
   "outputs": [],
   "source": [
    "## The 'Where' portion above is honestly not needed, but to work with the lesson plan I added it.\n",
    "##It's essentially just sorting by the top 5."
   ]
  },
  {
   "cell_type": "markdown",
   "id": "d7a42a0f-d0b2-4800-90c8-25eeb64aff9b",
   "metadata": {},
   "source": [
    "## Question 2: How Should We Match Marketing and Communication Strategies to Customer Behavior?"
   ]
  },
  {
   "cell_type": "markdown",
   "id": "d8059276-677b-41e3-b14b-722a2d0d5e7b",
   "metadata": {},
   "source": [
    "In the first part of this project, we explored products. Now we'll explore customer information by answering the second question: how should we match marketing and communication strategies to customer behaviors? This involves categorizing customers: finding the VIP (very important person) customers and those who are less engaged."
   ]
  },
  {
   "cell_type": "markdown",
   "id": "0a8eca45-856f-4fc5-989f-eed5d6318875",
   "metadata": {},
   "source": [
    "-VIP customers bring in the most profit for the store.<br>\n",
    "-Less-engaged customers bring in less profit.<br>"
   ]
  },
  {
   "cell_type": "markdown",
   "id": "c3c58a7b-3cf9-408d-a92d-02ccac71323a",
   "metadata": {},
   "source": [
    "For example, we could organize some events to drive loyalty for the VIPs and launch a campaign for the less engaged.\r\n",
    "\r\n",
    "Before we begin, let's compute how much profit each customer generates.\r\n",
    "\r\n",
    "We'll need these tables:"
   ]
  },
  {
   "cell_type": "markdown",
   "id": "05b05f0a-9f3b-4fab-b380-af181eb7c1bf",
   "metadata": {},
   "source": [
    "<img src='Image3.png'>"
   ]
  },
  {
   "cell_type": "code",
   "execution_count": 21,
   "id": "13c6b655-c62f-48fe-8ca4-9e5b462dd6b5",
   "metadata": {},
   "outputs": [
    {
     "name": "stdout",
     "output_type": "stream",
     "text": [
      " * sqlite:///stores.db\n",
      "Done.\n"
     ]
    },
    {
     "data": {
      "text/html": [
       "<table>\n",
       "    <thead>\n",
       "        <tr>\n",
       "            <th>customerNumber</th>\n",
       "            <th>CustomerProfit</th>\n",
       "        </tr>\n",
       "    </thead>\n",
       "    <tbody>\n",
       "        <tr>\n",
       "            <td>141</td>\n",
       "            <td>326519.66</td>\n",
       "        </tr>\n",
       "        <tr>\n",
       "            <td>124</td>\n",
       "            <td>236769.39</td>\n",
       "        </tr>\n",
       "        <tr>\n",
       "            <td>151</td>\n",
       "            <td>72370.09</td>\n",
       "        </tr>\n",
       "        <tr>\n",
       "            <td>114</td>\n",
       "            <td>70311.07</td>\n",
       "        </tr>\n",
       "        <tr>\n",
       "            <td>119</td>\n",
       "            <td>60875.3</td>\n",
       "        </tr>\n",
       "        <tr>\n",
       "            <td>148</td>\n",
       "            <td>60477.38</td>\n",
       "        </tr>\n",
       "        <tr>\n",
       "            <td>187</td>\n",
       "            <td>60095.86</td>\n",
       "        </tr>\n",
       "        <tr>\n",
       "            <td>323</td>\n",
       "            <td>60013.99</td>\n",
       "        </tr>\n",
       "        <tr>\n",
       "            <td>131</td>\n",
       "            <td>58669.1</td>\n",
       "        </tr>\n",
       "        <tr>\n",
       "            <td>450</td>\n",
       "            <td>55931.37</td>\n",
       "        </tr>\n",
       "    </tbody>\n",
       "</table>"
      ],
      "text/plain": [
       "[(141, 326519.66),\n",
       " (124, 236769.39),\n",
       " (151, 72370.09),\n",
       " (114, 70311.07),\n",
       " (119, 60875.3),\n",
       " (148, 60477.38),\n",
       " (187, 60095.86),\n",
       " (323, 60013.99),\n",
       " (131, 58669.1),\n",
       " (450, 55931.37)]"
      ]
     },
     "execution_count": 21,
     "metadata": {},
     "output_type": "execute_result"
    }
   ],
   "source": [
    "%%sql \n",
    "SELECT o.customernumber,ROUND((SUM(od.quantityOrdered * (od.priceEach - p.buyPrice))),2) AS CustomerProfit\n",
    "  FROM orderdetails od\n",
    " INNER JOIN orders o \n",
    "    ON od.ordernumber = o.ordernumber\n",
    " INNER JOIN products p\n",
    "    ON od.productcode = p.productcode\n",
    " GROUP BY o.customernumber\n",
    " ORDER BY CustomerProfit DESC\n",
    " LIMIT 10;"
   ]
  },
  {
   "cell_type": "markdown",
   "id": "b757310e-74f7-4951-9d03-10c444c6b62d",
   "metadata": {},
   "source": [
    "Using a CTE we'll make a new Query to find the VIP's"
   ]
  },
  {
   "cell_type": "code",
   "execution_count": 22,
   "id": "76ad0610-8124-4dda-a47a-fb70f602a33a",
   "metadata": {},
   "outputs": [],
   "source": [
    "##How this works is we're creating a seperate chart with the \"WITH\" code named \"Performance\"\n",
    "##We can then call to this new chart whenever we like in the code beneath."
   ]
  },
  {
   "cell_type": "code",
   "execution_count": 23,
   "id": "46f2db69-54ad-42e8-b67e-27018727e791",
   "metadata": {},
   "outputs": [
    {
     "name": "stdout",
     "output_type": "stream",
     "text": [
      " * sqlite:///stores.db\n",
      "Done.\n"
     ]
    },
    {
     "data": {
      "text/html": [
       "<table>\n",
       "    <thead>\n",
       "        <tr>\n",
       "            <th>Name</th>\n",
       "            <th>city</th>\n",
       "            <th>country</th>\n",
       "            <th>profit</th>\n",
       "            <th>customerNumber</th>\n",
       "        </tr>\n",
       "    </thead>\n",
       "    <tbody>\n",
       "        <tr>\n",
       "            <td>Freyre Diego </td>\n",
       "            <td>Madrid</td>\n",
       "            <td>Spain</td>\n",
       "            <td>326519.66</td>\n",
       "            <td>141</td>\n",
       "        </tr>\n",
       "        <tr>\n",
       "            <td>Nelson Susan</td>\n",
       "            <td>San Rafael</td>\n",
       "            <td>USA</td>\n",
       "            <td>236769.39</td>\n",
       "            <td>124</td>\n",
       "        </tr>\n",
       "        <tr>\n",
       "            <td>Young Jeff</td>\n",
       "            <td>NYC</td>\n",
       "            <td>USA</td>\n",
       "            <td>72370.09</td>\n",
       "            <td>151</td>\n",
       "        </tr>\n",
       "        <tr>\n",
       "            <td>Ferguson Peter</td>\n",
       "            <td>Melbourne</td>\n",
       "            <td>Australia</td>\n",
       "            <td>70311.07</td>\n",
       "            <td>114</td>\n",
       "        </tr>\n",
       "        <tr>\n",
       "            <td>Labrune Janine </td>\n",
       "            <td>Nantes</td>\n",
       "            <td>France</td>\n",
       "            <td>60875.3</td>\n",
       "            <td>119</td>\n",
       "        </tr>\n",
       "    </tbody>\n",
       "</table>"
      ],
      "text/plain": [
       "[('Freyre Diego ', 'Madrid', 'Spain', 326519.66, 141),\n",
       " ('Nelson Susan', 'San Rafael', 'USA', 236769.39, 124),\n",
       " ('Young Jeff', 'NYC', 'USA', 72370.09, 151),\n",
       " ('Ferguson Peter', 'Melbourne', 'Australia', 70311.07, 114),\n",
       " ('Labrune Janine ', 'Nantes', 'France', 60875.3, 119)]"
      ]
     },
     "execution_count": 23,
     "metadata": {},
     "output_type": "execute_result"
    }
   ],
   "source": [
    "%%sql\n",
    "WITH performance AS\n",
    "  (SELECT o.customerNumber, round(SUM(od.quantityOrdered * (od.priceEach - p.buyPrice)),2) AS profit\n",
    "     FROM orders o\n",
    "     JOIN orderdetails od \n",
    "       ON od.orderNumber = o.orderNumber\n",
    "     JOIN products p \n",
    "       ON p.productCode = od.productCode\n",
    "    GROUP BY o.customerNumber\n",
    "    ORDER BY profit DESC\n",
    "  )\n",
    "\n",
    "SELECT c.contactLastName ||\" \"||c.contactFirstName AS Name,c.city,c.country, profit, performance.customernumber\n",
    "  FROM customers c \n",
    "  JOIN performance \n",
    "    ON performance.customerNumber = c.customerNumber \n",
    " LIMIT 5;"
   ]
  },
  {
   "cell_type": "markdown",
   "id": "280ae14a-d7a2-49fe-9aa7-d65758707424",
   "metadata": {},
   "source": [
    "Now that we've found the TOP - 5 VIP's, let's look for the TOP - 5 least engaged customers"
   ]
  },
  {
   "cell_type": "code",
   "execution_count": 24,
   "id": "5275ec95-b56c-4452-afc8-fe9ef81536c8",
   "metadata": {},
   "outputs": [],
   "source": [
    "## All we're really doing is flipping the Profit value ordering from DESC to ASC "
   ]
  },
  {
   "cell_type": "code",
   "execution_count": 25,
   "id": "f1d1903c-4c10-4ca5-91e6-3ffdf853e0c8",
   "metadata": {},
   "outputs": [
    {
     "name": "stdout",
     "output_type": "stream",
     "text": [
      " * sqlite:///stores.db\n",
      "Done.\n"
     ]
    },
    {
     "data": {
      "text/html": [
       "<table>\n",
       "    <thead>\n",
       "        <tr>\n",
       "            <th>Name</th>\n",
       "            <th>city</th>\n",
       "            <th>country</th>\n",
       "            <th>profit</th>\n",
       "            <th>customerNumber</th>\n",
       "        </tr>\n",
       "    </thead>\n",
       "    <tbody>\n",
       "        <tr>\n",
       "            <td>Mary Young</td>\n",
       "            <td>Glendale</td>\n",
       "            <td>USA</td>\n",
       "            <td>2610.87</td>\n",
       "            <td>219</td>\n",
       "        </tr>\n",
       "        <tr>\n",
       "            <td>Leslie Taylor</td>\n",
       "            <td>Brickhaven</td>\n",
       "            <td>USA</td>\n",
       "            <td>6586.02</td>\n",
       "            <td>198</td>\n",
       "        </tr>\n",
       "        <tr>\n",
       "            <td>Franco Ricotti</td>\n",
       "            <td>Milan</td>\n",
       "            <td>Italy</td>\n",
       "            <td>9532.93</td>\n",
       "            <td>473</td>\n",
       "        </tr>\n",
       "        <tr>\n",
       "            <td>Carine  Schmitt</td>\n",
       "            <td>Nantes</td>\n",
       "            <td>France</td>\n",
       "            <td>10063.8</td>\n",
       "            <td>103</td>\n",
       "        </tr>\n",
       "        <tr>\n",
       "            <td>Thomas  Smith</td>\n",
       "            <td>London</td>\n",
       "            <td>UK</td>\n",
       "            <td>10868.04</td>\n",
       "            <td>489</td>\n",
       "        </tr>\n",
       "    </tbody>\n",
       "</table>"
      ],
      "text/plain": [
       "[('Mary Young', 'Glendale', 'USA', 2610.87, 219),\n",
       " ('Leslie Taylor', 'Brickhaven', 'USA', 6586.02, 198),\n",
       " ('Franco Ricotti', 'Milan', 'Italy', 9532.93, 473),\n",
       " ('Carine  Schmitt', 'Nantes', 'France', 10063.8, 103),\n",
       " ('Thomas  Smith', 'London', 'UK', 10868.04, 489)]"
      ]
     },
     "execution_count": 25,
     "metadata": {},
     "output_type": "execute_result"
    }
   ],
   "source": [
    "%%sql\n",
    "WITH performance AS\n",
    "  (SELECT o.customerNumber, round(SUM(od.quantityOrdered * (od.priceEach - p.buyPrice)),2) AS profit\n",
    "     FROM orders o\n",
    "     JOIN orderdetails od \n",
    "       ON od.orderNumber = o.orderNumber\n",
    "     JOIN products p \n",
    "       ON p.productCode = od.productCode\n",
    "    GROUP BY o.customerNumber\n",
    "    ORDER BY profit ASC\n",
    "  )\n",
    "\n",
    "SELECT c.contactFirstName ||\" \"||c.contactLastName AS Name,c.city,c.country, profit, performance.customernumber\n",
    "  FROM customers c \n",
    "  JOIN performance \n",
    "    ON performance.customerNumber = c.customerNumber \n",
    " LIMIT 5;"
   ]
  },
  {
   "cell_type": "markdown",
   "id": "4065f394-ab65-4675-9593-a2baf050cde2",
   "metadata": {},
   "source": [
    "## Question 3: How Much Can We Spend on Acquiring New Customers?"
   ]
  },
  {
   "cell_type": "markdown",
   "id": "e122c6d9-bb24-4982-9640-8b84c85a9f21",
   "metadata": {},
   "source": [
    "Before answering this question, let's find the number of new customers arriving each month. That way we can check if it's worth spending money on acquiring new customers. This query helps to find these numbers."
   ]
  },
  {
   "cell_type": "code",
   "execution_count": 26,
   "id": "67bfe639-0d9c-4582-9122-43de05c37649",
   "metadata": {},
   "outputs": [
    {
     "name": "stdout",
     "output_type": "stream",
     "text": [
      " * sqlite:///stores.db\n",
      "Done.\n"
     ]
    },
    {
     "data": {
      "text/html": [
       "<table>\n",
       "    <thead>\n",
       "        <tr>\n",
       "            <th>year_month</th>\n",
       "            <th>number_of_new_customers_props</th>\n",
       "            <th>new_customers_total_props</th>\n",
       "        </tr>\n",
       "    </thead>\n",
       "    <tbody>\n",
       "        <tr>\n",
       "            <td>200301</td>\n",
       "            <td>100.0</td>\n",
       "            <td>100.0</td>\n",
       "        </tr>\n",
       "        <tr>\n",
       "            <td>200302</td>\n",
       "            <td>100.0</td>\n",
       "            <td>100.0</td>\n",
       "        </tr>\n",
       "        <tr>\n",
       "            <td>200303</td>\n",
       "            <td>100.0</td>\n",
       "            <td>100.0</td>\n",
       "        </tr>\n",
       "        <tr>\n",
       "            <td>200304</td>\n",
       "            <td>100.0</td>\n",
       "            <td>100.0</td>\n",
       "        </tr>\n",
       "        <tr>\n",
       "            <td>200305</td>\n",
       "            <td>100.0</td>\n",
       "            <td>100.0</td>\n",
       "        </tr>\n",
       "        <tr>\n",
       "            <td>200306</td>\n",
       "            <td>100.0</td>\n",
       "            <td>100.0</td>\n",
       "        </tr>\n",
       "        <tr>\n",
       "            <td>200307</td>\n",
       "            <td>75.0</td>\n",
       "            <td>68.3</td>\n",
       "        </tr>\n",
       "        <tr>\n",
       "            <td>200308</td>\n",
       "            <td>66.0</td>\n",
       "            <td>54.2</td>\n",
       "        </tr>\n",
       "        <tr>\n",
       "            <td>200309</td>\n",
       "            <td>80.0</td>\n",
       "            <td>95.9</td>\n",
       "        </tr>\n",
       "        <tr>\n",
       "            <td>200310</td>\n",
       "            <td>69.0</td>\n",
       "            <td>69.3</td>\n",
       "        </tr>\n",
       "        <tr>\n",
       "            <td>200311</td>\n",
       "            <td>57.0</td>\n",
       "            <td>53.9</td>\n",
       "        </tr>\n",
       "        <tr>\n",
       "            <td>200312</td>\n",
       "            <td>60.0</td>\n",
       "            <td>54.9</td>\n",
       "        </tr>\n",
       "        <tr>\n",
       "            <td>200401</td>\n",
       "            <td>33.0</td>\n",
       "            <td>41.1</td>\n",
       "        </tr>\n",
       "        <tr>\n",
       "            <td>200402</td>\n",
       "            <td>33.0</td>\n",
       "            <td>26.5</td>\n",
       "        </tr>\n",
       "        <tr>\n",
       "            <td>200403</td>\n",
       "            <td>54.0</td>\n",
       "            <td>55.0</td>\n",
       "        </tr>\n",
       "        <tr>\n",
       "            <td>200404</td>\n",
       "            <td>40.0</td>\n",
       "            <td>40.3</td>\n",
       "        </tr>\n",
       "        <tr>\n",
       "            <td>200405</td>\n",
       "            <td>12.0</td>\n",
       "            <td>17.3</td>\n",
       "        </tr>\n",
       "        <tr>\n",
       "            <td>200406</td>\n",
       "            <td>33.0</td>\n",
       "            <td>43.9</td>\n",
       "        </tr>\n",
       "        <tr>\n",
       "            <td>200407</td>\n",
       "            <td>10.0</td>\n",
       "            <td>6.5</td>\n",
       "        </tr>\n",
       "        <tr>\n",
       "            <td>200408</td>\n",
       "            <td>18.0</td>\n",
       "            <td>26.2</td>\n",
       "        </tr>\n",
       "        <tr>\n",
       "            <td>200409</td>\n",
       "            <td>40.0</td>\n",
       "            <td>56.4</td>\n",
       "        </tr>\n",
       "    </tbody>\n",
       "</table>"
      ],
      "text/plain": [
       "[(200301, 100.0, 100.0),\n",
       " (200302, 100.0, 100.0),\n",
       " (200303, 100.0, 100.0),\n",
       " (200304, 100.0, 100.0),\n",
       " (200305, 100.0, 100.0),\n",
       " (200306, 100.0, 100.0),\n",
       " (200307, 75.0, 68.3),\n",
       " (200308, 66.0, 54.2),\n",
       " (200309, 80.0, 95.9),\n",
       " (200310, 69.0, 69.3),\n",
       " (200311, 57.0, 53.9),\n",
       " (200312, 60.0, 54.9),\n",
       " (200401, 33.0, 41.1),\n",
       " (200402, 33.0, 26.5),\n",
       " (200403, 54.0, 55.0),\n",
       " (200404, 40.0, 40.3),\n",
       " (200405, 12.0, 17.3),\n",
       " (200406, 33.0, 43.9),\n",
       " (200407, 10.0, 6.5),\n",
       " (200408, 18.0, 26.2),\n",
       " (200409, 40.0, 56.4)]"
      ]
     },
     "execution_count": 26,
     "metadata": {},
     "output_type": "execute_result"
    }
   ],
   "source": [
    "%%sql\n",
    "WITH \n",
    "\n",
    "payment_with_year_month_table AS (\n",
    "       SELECT *, \n",
    "              CAST(SUBSTR(paymentDate, 1,4) AS INTEGER)*100 + CAST(SUBSTR(paymentDate, 6,7) AS INTEGER) AS year_month\n",
    "         FROM payments p\n",
    "),\n",
    "\n",
    "customers_by_month_table AS (\n",
    "       SELECT p1.year_month, COUNT(*) AS number_of_customers, SUM(p1.amount) AS total\n",
    "         FROM payment_with_year_month_table p1\n",
    "        GROUP BY p1.year_month\n",
    "),\n",
    "\n",
    "new_customers_by_month_table AS (\n",
    "       SELECT p1.year_month, \n",
    "              COUNT(*) AS number_of_new_customers,\n",
    "              SUM(p1.amount) AS new_customer_total,\n",
    "              (SELECT number_of_customers\n",
    "                 FROM customers_by_month_table c\n",
    "                WHERE c.year_month = p1.year_month) AS number_of_customers,\n",
    "                      (SELECT total\n",
    "                         FROM customers_by_month_table c\n",
    "                         WHERE c.year_month = p1.year_month) AS total\n",
    "          FROM payment_with_year_month_table p1\n",
    "         WHERE p1.customerNumber NOT IN (SELECT customerNumber\n",
    "                                           FROM payment_with_year_month_table p2\n",
    "                                          WHERE p2.year_month < p1.year_month)\n",
    "         GROUP BY p1.year_month\n",
    ")\n",
    "\n",
    "SELECT year_month, \n",
    "       ROUND(number_of_new_customers*100/number_of_customers,1) AS number_of_new_customers_props,\n",
    "       ROUND(new_customer_total*100/total,1) AS new_customers_total_props\n",
    "  FROM new_customers_by_month_table;"
   ]
  },
  {
   "cell_type": "markdown",
   "id": "2b648d6d-bb3f-4f12-8ad6-2771860a034e",
   "metadata": {},
   "source": [
    "As you can see, the number of clients has been decreasing since 2003, and in 2004, we had the lowest values. The year 2005, which is present in the database as well, isn't present in the table above, this means that the store has not had any new customers since September of 2004. This means it makes sense to spend money acquiring new customers.\r\n",
    "\r\n",
    "To determine how much money we can spend acquiring new customers, we can compute the Customer Lifetime Value (LTV), which represents the average amount of money a customer generates. We can then determine how much we can spend on marketing."
   ]
  },
  {
   "cell_type": "code",
   "execution_count": 27,
   "id": "5c51bd3b-6c31-4d79-bbc5-935c85f0c3d5",
   "metadata": {},
   "outputs": [
    {
     "name": "stdout",
     "output_type": "stream",
     "text": [
      " * sqlite:///stores.db\n",
      "Done.\n"
     ]
    },
    {
     "data": {
      "text/html": [
       "<table>\n",
       "    <thead>\n",
       "        <tr>\n",
       "            <th>LTV</th>\n",
       "        </tr>\n",
       "    </thead>\n",
       "    <tbody>\n",
       "        <tr>\n",
       "            <td>39039.59</td>\n",
       "        </tr>\n",
       "    </tbody>\n",
       "</table>"
      ],
      "text/plain": [
       "[(39039.59,)]"
      ]
     },
     "execution_count": 27,
     "metadata": {},
     "output_type": "execute_result"
    }
   ],
   "source": [
    "%%sql\n",
    "WITH performance AS\n",
    "  (SELECT o.customerNumber, round(SUM(od.quantityOrdered * (od.priceEach - p.buyPrice)),2) AS profit\n",
    "     FROM orders o\n",
    "     JOIN orderdetails od \n",
    "       ON od.orderNumber = o.orderNumber\n",
    "     JOIN products p \n",
    "       ON p.productCode = od.productCode\n",
    "    GROUP BY o.customerNumber\n",
    "    ORDER BY profit DESC\n",
    "  )\n",
    "\n",
    "SELECT ROUND(AVG(profit),2) as LTV\n",
    "  FROM performance"
   ]
  },
  {
   "cell_type": "markdown",
   "id": "4a6fcd22-bdf7-46a3-9f31-f2989d68926c",
   "metadata": {},
   "source": [
    "LTV tells us how much profit an average customer generates during their lifetime with our store. We can use it to predict our future profit. So, if we get ten new customers next month, we'll earn 390,395 dollars, and we can decide based on this prediction how much we can spend on acquiring new customers."
   ]
  },
  {
   "cell_type": "markdown",
   "id": "87aa3a5d-baf6-4e5a-ac33-8aa33897f38d",
   "metadata": {},
   "source": [
    "## Conclusion"
   ]
  },
  {
   "cell_type": "code",
   "execution_count": null,
   "id": "e6c3414e-cbbc-4b2f-b5bd-3af994d3c2d1",
   "metadata": {},
   "outputs": [],
   "source": []
  }
 ],
 "metadata": {
  "kernelspec": {
   "display_name": "Python 3 (ipykernel)",
   "language": "python",
   "name": "python3"
  },
  "language_info": {
   "codemirror_mode": {
    "name": "ipython",
    "version": 3
   },
   "file_extension": ".py",
   "mimetype": "text/x-python",
   "name": "python",
   "nbconvert_exporter": "python",
   "pygments_lexer": "ipython3",
   "version": "3.11.5"
  }
 },
 "nbformat": 4,
 "nbformat_minor": 5
}
